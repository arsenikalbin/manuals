{
 "cells": [
  {
   "cell_type": "markdown",
   "metadata": {},
   "source": [
    "My first line of code"
   ]
  },
  {
   "cell_type": "code",
   "execution_count": 1,
   "metadata": {},
   "outputs": [
    {
     "name": "stdout",
     "output_type": "stream",
     "text": [
      "Hello World\n"
     ]
    }
   ],
   "source": [
    "print('Hello World')"
   ]
  },
  {
   "cell_type": "code",
   "execution_count": 1,
   "metadata": {},
   "outputs": [
    {
     "name": "stdout",
     "output_type": "stream",
     "text": [
      "My car is a 2022 Blue Toyota Camry.\n",
      "The Blue 2022 Toyota Camry's engine is starting.\n",
      "The Blue 2022 Toyota Camry is honking!\n",
      "The Blue 2022 Toyota Camry's engine is stopping.\n"
     ]
    }
   ],
   "source": [
    "class Car:\n",
    "    def __init__(self, make, model, year, color): # The __init__ method is called when an instance of the class is created.\n",
    "                                                  # It is also called the constructor.\n",
    "        self.make = make\n",
    "        self.model = model\n",
    "        self.year = year\n",
    "        self.color = color\n",
    "        self.is_running = False\n",
    "\n",
    "    def start_engine(self):\n",
    "        if not self.is_running:\n",
    "            print(f\"The {self.color} {self.year} {self.make} {self.model}'s engine is starting.\")\n",
    "            self.is_running = True\n",
    "        else:\n",
    "            print(\"The engine is already running.\")\n",
    "\n",
    "    def stop_engine(self):\n",
    "        if self.is_running:\n",
    "            print(f\"The {self.color} {self.year} {self.make} {self.model}'s engine is stopping.\")\n",
    "            self.is_running = False\n",
    "        else:\n",
    "            print(\"The engine is already stopped.\")\n",
    "\n",
    "    def honk(self):\n",
    "        print(f\"The {self.color} {self.year} {self.make} {self.model} is honking!\")\n",
    "\n",
    "# Creating an instance of the Car class\n",
    "my_car = Car(make=\"Toyota\", model=\"Camry\", year=2022, color=\"Blue\")\n",
    "\n",
    "# Accessing attributes\n",
    "print(f\"My car is a {my_car.year} {my_car.color} {my_car.make} {my_car.model}.\")\n",
    "\n",
    "# Calling methods\n",
    "my_car.start_engine()\n",
    "my_car.honk()\n",
    "my_car.stop_engine()\n"
   ]
  }
 ],
 "metadata": {
  "kernelspec": {
   "display_name": "Python 3",
   "language": "python",
   "name": "python3"
  },
  "language_info": {
   "codemirror_mode": {
    "name": "ipython",
    "version": 3
   },
   "file_extension": ".py",
   "mimetype": "text/x-python",
   "name": "python",
   "nbconvert_exporter": "python",
   "pygments_lexer": "ipython3",
   "version": "3.7.13"
  }
 },
 "nbformat": 4,
 "nbformat_minor": 2
}
