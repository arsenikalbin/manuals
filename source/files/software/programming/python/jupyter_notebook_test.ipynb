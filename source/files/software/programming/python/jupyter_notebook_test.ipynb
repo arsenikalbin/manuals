{
  "cells": [
    {
      "cell_type": "markdown",
      "metadata": {
        "id": "view-in-github",
        "colab_type": "text"
      },
      "source": [
        "<a href=\"https://colab.research.google.com/github/jevgenik/manuals/blob/main/Original_Markdown/Programming/Python/jupyter_notebook_test.ipynb\" target=\"_parent\"><img src=\"https://colab.research.google.com/assets/colab-badge.svg\" alt=\"Open In Colab\"/></a>"
      ]
    },
    {
      "cell_type": "markdown",
      "metadata": {
        "id": "stnoqqwiVuZA"
      },
      "source": [
        "My first line of code"
      ]
    },
    {
      "cell_type": "code",
      "execution_count": 3,
      "metadata": {
        "id": "h6X8yHLMVuZC",
        "outputId": "11adc12d-ee56-4859-deb3-edc28a365cec",
        "colab": {
          "base_uri": "https://localhost:8080/"
        }
      },
      "outputs": [
        {
          "output_type": "stream",
          "name": "stdout",
          "text": [
            "Hello World\n"
          ]
        }
      ],
      "source": [
        "print('Hello World')"
      ]
    },
    {
      "cell_type": "code",
      "execution_count": 2,
      "metadata": {
        "id": "JY8_11ECVuZE",
        "outputId": "5b3b2ccb-15ca-40bb-8a46-55d36f9cf844",
        "colab": {
          "base_uri": "https://localhost:8080/"
        }
      },
      "outputs": [
        {
          "output_type": "stream",
          "name": "stdout",
          "text": [
            "My car is a 2022 RED Toyota Camry.\n",
            "The RED 2022 Toyota Camry's engine is starting.\n",
            "The RED 2022 Toyota Camry is honking!\n",
            "The RED 2022 Toyota Camry's engine is stopping.\n"
          ]
        }
      ],
      "source": [
        "class Car:\n",
        "    def __init__(self, make, model, year, color): # The __init__ method is called when an instance of the class is created.\n",
        "                                                  # It is also called the constructor.\n",
        "        self.make = make\n",
        "        self.model = model\n",
        "        self.year = year\n",
        "        self.color = color\n",
        "        self.is_running = False\n",
        "\n",
        "    def start_engine(self):\n",
        "        if not self.is_running:\n",
        "            print(f\"The {self.color} {self.year} {self.make} {self.model}'s engine is starting.\")\n",
        "            self.is_running = True\n",
        "        else:\n",
        "            print(\"The engine is already running.\")\n",
        "\n",
        "    def stop_engine(self): # self is a reference to the current instance of the class\n",
        "        if self.is_running:\n",
        "            print(f\"The {self.color} {self.year} {self.make} {self.model}'s engine is stopping.\")\n",
        "            self.is_running = False\n",
        "        else:\n",
        "            print(\"The engine is already stopped.\")\n",
        "\n",
        "    def honk(self):\n",
        "        print(f\"The {self.color} {self.year} {self.make} {self.model} is honking!\")\n",
        "\n",
        "# Creating an instance of the Car class\n",
        "my_car = Car(make=\"Toyota\", model=\"Camry\", year=2022, color=\"Blue\")\n",
        "\n",
        "# Accessing attributes\n",
        "print(f\"My car is a {my_car.year} {my_car.color} {my_car.make} {my_car.model}.\")\n",
        "\n",
        "# Calling methods\n",
        "my_car.start_engine()\n",
        "my_car.honk()\n",
        "my_car.stop_engine()\n"
      ]
    }
  ],
  "metadata": {
    "kernelspec": {
      "display_name": "Python 3",
      "language": "python",
      "name": "python3"
    },
    "language_info": {
      "codemirror_mode": {
        "name": "ipython",
        "version": 3
      },
      "file_extension": ".py",
      "mimetype": "text/x-python",
      "name": "python",
      "nbconvert_exporter": "python",
      "pygments_lexer": "ipython3",
      "version": "3.7.13"
    },
    "colab": {
      "provenance": [],
      "include_colab_link": true
    }
  },
  "nbformat": 4,
  "nbformat_minor": 0
}